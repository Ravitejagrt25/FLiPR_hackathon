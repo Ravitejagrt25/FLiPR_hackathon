{
 "cells": [
  {
   "cell_type": "code",
   "execution_count": 1,
   "metadata": {},
   "outputs": [],
   "source": [
    "import pandas as pd\n",
    "\n",
    "import warnings\n",
    "warnings.filterwarnings('ignore')\n",
    "\n",
    "import matplotlib.pyplot as plt\n",
    "\n",
    "import seaborn as sns           \n",
    "\n",
    "import numpy as np\n",
    "\n",
    "import scipy.stats as stats\n",
    "import math\n",
    "\n",
    "pd.set_option('display.max_rows',1600)\n",
    "pd.set_option('display.max_columns',1600)\n",
    "\n",
    "from sklearn.model_selection import train_test_split\n",
    "from sklearn.preprocessing import LabelEncoder, MinMaxScaler\n",
    "\n",
    "from sklearn.decomposition import PCA\n",
    "\n",
    "from sklearn.linear_model import LinearRegression, SGDRegressor\n",
    "from sklearn.tree import DecisionTreeRegressor\n",
    "from sklearn.ensemble import RandomForestRegressor, BaggingRegressor,AdaBoostRegressor, GradientBoostingRegressor\n",
    "from sklearn.neighbors import KNeighborsRegressor\n",
    "from sklearn.svm import SVR\n",
    "\n",
    "from sklearn.model_selection import GridSearchCV, RandomizedSearchCV, cross_val_score\n",
    "\n",
    "from sklearn.metrics import r2_score, mean_squared_error, make_scorer\n"
   ]
  },
  {
   "cell_type": "code",
   "execution_count": 2,
   "metadata": {},
   "outputs": [
    {
     "name": "stdout",
     "output_type": "stream",
     "text": [
      "['Train_dataset', 'Diuresis_TS']\n"
     ]
    }
   ],
   "source": [
    "import xlsxwriter\n",
    "\n",
    "import pandas as pd\n",
    "\n",
    "from pandas import DataFrame\n",
    "\n",
    "path = (r\"C:\\Users\\Raviteja\\Desktop\\Python_Practice\\FLiPR_Hackathon\\Train_dataset.xlsx\")\n",
    "\n",
    "xl = pd.ExcelFile(path)\n",
    "\n",
    "print(xl.sheet_names)\n",
    "\n",
    "FLiPR_df = xl.parse('Train_dataset')"
   ]
  },
  {
   "cell_type": "code",
   "execution_count": 3,
   "metadata": {},
   "outputs": [
    {
     "name": "stdout",
     "output_type": "stream",
     "text": [
      "['Test_dataset']\n"
     ]
    }
   ],
   "source": [
    "path = (r\"C:\\Users\\Raviteja\\Desktop\\Python_Practice\\FLiPR_Hackathon\\Test_dataset.xlsx\")\n",
    "\n",
    "xl = pd.ExcelFile(path)\n",
    "\n",
    "print(xl.sheet_names)\n",
    "\n",
    "Test_FLiPR_df = xl.parse('Test_dataset')\n"
   ]
  },
  {
   "cell_type": "code",
   "execution_count": 4,
   "metadata": {},
   "outputs": [
    {
     "name": "stdout",
     "output_type": "stream",
     "text": [
      "people_ID                   int64\n",
      "Region                     object\n",
      "Gender                     object\n",
      "Designation                object\n",
      "Name                       object\n",
      "Married                    object\n",
      "Children                  float64\n",
      "Occupation                 object\n",
      "Mode_transport             object\n",
      "cases/1M                    int64\n",
      "Deaths/1M                   int64\n",
      "comorbidity                object\n",
      "Age                         int64\n",
      "Coma score                  int64\n",
      "Pulmonary score            object\n",
      "cardiological pressure     object\n",
      "Diuresis                  float64\n",
      "Platelets                 float64\n",
      "HBB                       float64\n",
      "d-dimer                   float64\n",
      "Heart rate                float64\n",
      "HDL cholesterol           float64\n",
      "Charlson Index              int64\n",
      "Blood Glucose               int64\n",
      "Insurance                 float64\n",
      "salary                      int64\n",
      "FT/month                  float64\n",
      "Infect_Prob               float64\n",
      "dtype: object\n",
      "Index(['people_ID', 'Region', 'Gender', 'Designation', 'Name', 'Married',\n",
      "       'Children', 'Occupation', 'Mode_transport', 'cases/1M', 'Deaths/1M',\n",
      "       'comorbidity', 'Age', 'Coma score', 'Pulmonary score',\n",
      "       'cardiological pressure', 'Diuresis', 'Platelets', 'HBB', 'd-dimer',\n",
      "       'Heart rate', 'HDL cholesterol', 'Charlson Index', 'Blood Glucose',\n",
      "       'Insurance', 'salary', 'FT/month', 'Infect_Prob'],\n",
      "      dtype='object')\n"
     ]
    }
   ],
   "source": [
    "print(FLiPR_df.dtypes)\n",
    "\n",
    "FLiPR_df.shape\n",
    "\n",
    "print(FLiPR_df.columns)\n",
    "\n",
    "FLiPR_df.isnull().sum()\n",
    "\n",
    "people_ID = FLiPR_df['people_ID']\n",
    "\n",
    "y = FLiPR_df['Infect_Prob']\n",
    "\n",
    "z= Test_FLiPR_df['people_ID']\n",
    "\n",
    "drop_Columns=['people_ID','Infect_Prob']\n",
    "\n",
    "\n",
    "Output_1 = pd.DataFrame({'people_ID':z})"
   ]
  },
  {
   "cell_type": "code",
   "execution_count": 5,
   "metadata": {},
   "outputs": [],
   "source": [
    "FLiPR_df.drop(columns=drop_Columns,inplace=True)\n",
    "Test_FLiPR_df.drop(columns='people_ID',inplace=True)"
   ]
  },
  {
   "cell_type": "code",
   "execution_count": 6,
   "metadata": {},
   "outputs": [
    {
     "data": {
      "text/plain": [
       "[]"
      ]
     },
     "execution_count": 6,
     "metadata": {},
     "output_type": "execute_result"
    }
   ],
   "source": [
    "missing_value_df=pd.DataFrame({'Column_Name':FLiPR_df.columns,\n",
    "                             'missing_value_count':FLiPR_df.isnull().sum(),\n",
    "                             'missing_value_percent':FLiPR_df.isnull().sum()/FLiPR_df.shape[0]*100})\n",
    "\n",
    "missing_value_df.sort_values(by='missing_value_percent',ascending=False)\n",
    "\n",
    "cols_drop=list(missing_value_df[missing_value_df['missing_value_percent']>50]['Column_Name'])\n",
    "\n",
    "cols_drop"
   ]
  },
  {
   "cell_type": "code",
   "execution_count": 7,
   "metadata": {},
   "outputs": [
    {
     "data": {
      "text/plain": [
       "[]"
      ]
     },
     "execution_count": 7,
     "metadata": {},
     "output_type": "execute_result"
    }
   ],
   "source": [
    "for col in FLiPR_df.columns:\n",
    "    if FLiPR_df[col].nunique()==FLiPR_df.shape[0] or FLiPR_df[col].nunique()==1:\n",
    "        cols_drop.append(col)\n",
    "cols_drop\n"
   ]
  },
  {
   "cell_type": "code",
   "execution_count": 8,
   "metadata": {},
   "outputs": [
    {
     "data": {
      "text/plain": [
       "(10714, 26)"
      ]
     },
     "execution_count": 8,
     "metadata": {},
     "output_type": "execute_result"
    }
   ],
   "source": [
    "FLiPR_df.drop(columns=cols_drop,inplace=True)\n",
    "Test_FLiPR_df.drop(columns=cols_drop,inplace=True)\n",
    "FLiPR_df.shape"
   ]
  },
  {
   "cell_type": "code",
   "execution_count": 9,
   "metadata": {},
   "outputs": [
    {
     "data": {
      "text/plain": [
       "Region                     object\n",
       "Gender                     object\n",
       "Designation                object\n",
       "Name                       object\n",
       "Married                    object\n",
       "Children                   object\n",
       "Occupation                 object\n",
       "Mode_transport             object\n",
       "cases/1M                    int64\n",
       "Deaths/1M                   int64\n",
       "comorbidity                object\n",
       "Age                        object\n",
       "Coma score                  int64\n",
       "Pulmonary score            object\n",
       "cardiological pressure     object\n",
       "Diuresis                  float64\n",
       "Platelets                 float64\n",
       "HBB                       float64\n",
       "d-dimer                   float64\n",
       "Heart rate                float64\n",
       "HDL cholesterol           float64\n",
       "Charlson Index              int64\n",
       "Blood Glucose               int64\n",
       "Insurance                 float64\n",
       "salary                      int64\n",
       "FT/month                  float64\n",
       "dtype: object"
      ]
     },
     "execution_count": 9,
     "metadata": {},
     "output_type": "execute_result"
    }
   ],
   "source": [
    "cols_change=['Children','Age']\n",
    "for col in cols_change:\n",
    "        FLiPR_df[col]=FLiPR_df[col].astype(object)\n",
    "        Test_FLiPR_df[col]=Test_FLiPR_df[col].astype(object)\n",
    "FLiPR_df.dtypes"
   ]
  },
  {
   "cell_type": "code",
   "execution_count": 10,
   "metadata": {},
   "outputs": [
    {
     "data": {
      "text/plain": [
       "(7499, 26)"
      ]
     },
     "execution_count": 10,
     "metadata": {},
     "output_type": "execute_result"
    }
   ],
   "source": [
    "from sklearn.model_selection import train_test_split\n",
    "\n",
    "X_train,X_test,y_train,y_test=train_test_split(FLiPR_df,y,test_size=0.3,random_state=43)\n",
    "\n",
    "X_train.shape"
   ]
  },
  {
   "cell_type": "code",
   "execution_count": 11,
   "metadata": {},
   "outputs": [
    {
     "data": {
      "text/plain": [
       "(7499, 26)"
      ]
     },
     "execution_count": 11,
     "metadata": {},
     "output_type": "execute_result"
    }
   ],
   "source": [
    "for col in X_train.columns:\n",
    "    if X_train[col].dtype=='object':\n",
    "        X_train[col]=X_train[col].fillna(X_train[col].mode()[0]).astype(object)\n",
    "        X_test[col]=X_test[col].fillna(X_train[col].mode()[0]).astype(object)\n",
    "        Test_FLiPR_df[col]=Test_FLiPR_df[col].fillna(X_train[col].mode()[0]).astype(object)\n",
    "    \n",
    "    else:\n",
    "        X_train[col]=X_train[col].fillna(X_train[col].mean())\n",
    "        X_test[col]=X_test[col].fillna(X_train[col].mean())\n",
    "        Test_FLiPR_df[col]=Test_FLiPR_df[col].fillna(X_train[col].mean())\n",
    "        \n",
    "X_train.shape"
   ]
  },
  {
   "cell_type": "code",
   "execution_count": 12,
   "metadata": {},
   "outputs": [],
   "source": [
    "from sklearn.preprocessing import LabelEncoder,MinMaxScaler\n",
    "import numpy as np\n",
    "\n",
    "\n",
    "class LabelEncoderExt(object):\n",
    "    def __init__(self):\n",
    "        \"\"\"\n",
    "        It differs from LabelEncoder by handling new classes and providing a value for it [Unknown]\n",
    "        Unknown will be added in fit and transform will take care of new item. It gives unknown class id\n",
    "        \"\"\"\n",
    "        self.label_encoder = LabelEncoder()\n",
    "        # self.classes_ = self.label_encoder.classes_\n",
    "\n",
    "    def fit(self, data_list):\n",
    "        \"\"\"\n",
    "        This will fit the encoder for all the unique values and introduce unknown value\n",
    "        :param data_list: A list of string\n",
    "        :return: self\n",
    "        \"\"\"\n",
    "        self.label_encoder = self.label_encoder.fit(list(data_list) + ['Unknown'])\n",
    "        self.classes_ = self.label_encoder.classes_\n",
    "\n",
    "        return self\n",
    "\n",
    "    def transform(self, data_list):\n",
    "        \"\"\"\n",
    "        This will transform the data_list to id list where the new values get assigned to Unknown class\n",
    "        :param data_list:\n",
    "        :return:\n",
    "        \"\"\"\n",
    "        new_data_list = list(data_list)\n",
    "        for unique_item in np.unique(data_list):\n",
    "            if unique_item not in self.label_encoder.classes_:\n",
    "                new_data_list = ['Unknown' if x==unique_item else x for x in new_data_list]\n",
    "\n",
    "        return self.label_encoder.transform(new_data_list)\n",
    "    \n",
    "le=LabelEncoderExt()\n",
    "mm=MinMaxScaler()\n",
    "\n",
    "for col in X_train.columns:\n",
    "    if X_train[col].dtype=='object':\n",
    "        le.fit(X_train[col])\n",
    "        X_train[col]=le.transform(X_train[col])\n",
    "        X_test[col]=le.transform(X_test[col])\n",
    "        Test_FLiPR_df[col]=le.transform(Test_FLiPR_df[col])\n",
    "    else:\n",
    "        mm.fit([X_train[col]])\n",
    "        X_train[col]=mm.fit_transform(np.array(X_train[col]).reshape(-1,1))\n",
    "        X_test[col]=mm.transform(np.array(X_test[col]).reshape(-1,1))\n",
    "        Test_FLiPR_df[col]=mm.transform(np.array(Test_FLiPR_df[col]).reshape(-1,1))\n",
    "        \n"
   ]
  },
  {
   "cell_type": "code",
   "execution_count": 13,
   "metadata": {},
   "outputs": [
    {
     "data": {
      "text/plain": [
       "0"
      ]
     },
     "execution_count": 13,
     "metadata": {},
     "output_type": "execute_result"
    }
   ],
   "source": [
    "y_train.isnull().sum()"
   ]
  },
  {
   "cell_type": "code",
   "execution_count": 14,
   "metadata": {},
   "outputs": [],
   "source": [
    "from sklearn.linear_model import LinearRegression\n",
    "\n",
    "ligReg = LinearRegression()\n",
    "\n",
    "ligReg.fit(X_train, y_train)\n",
    "\n",
    "y_predict = ligReg.predict(X_test)\n",
    "\n"
   ]
  },
  {
   "cell_type": "code",
   "execution_count": 15,
   "metadata": {},
   "outputs": [
    {
     "name": "stdout",
     "output_type": "stream",
     "text": [
      "0.24665841833444868\n",
      "85.5340783594381\n",
      "0.2601467172435087\n",
      "0.24665841833444868\n",
      "(14498, 1)\n",
      "Index(['Region', 'Gender', 'Designation', 'Name', 'Married', 'Children',\n",
      "       'Occupation', 'Mode_transport', 'cases/1M', 'Deaths/1M', 'comorbidity',\n",
      "       'Age', 'Coma score', 'Pulmonary score', 'cardiological pressure',\n",
      "       'Diuresis', 'Platelets', 'HBB', 'd-dimer', 'Heart rate',\n",
      "       'HDL cholesterol', 'Charlson Index', 'Blood Glucose', 'Insurance',\n",
      "       'salary', 'FT/month'],\n",
      "      dtype='object')\n",
      "Index(['Region', 'Gender', 'Designation', 'Name', 'Married', 'Children',\n",
      "       'Occupation', 'Mode_transport', 'cases/1M', 'Deaths/1M', 'comorbidity',\n",
      "       'Age', 'Coma score', 'Pulmonary score', 'cardiological pressure',\n",
      "       'Diuresis', 'Platelets', 'HBB', 'd-dimer', 'Heart rate',\n",
      "       'HDL cholesterol', 'Charlson Index', 'Blood Glucose', 'Insurance',\n",
      "       'salary', 'FT/month'],\n",
      "      dtype='object')\n"
     ]
    }
   ],
   "source": [
    "from sklearn.metrics import r2_score, mean_squared_error\n",
    "\n",
    "print(r2_score(y_test, y_predict))\n",
    "\n",
    "print(mean_squared_error(y_test, y_predict))\n",
    "\n",
    "print(ligReg.score(X_train, y_train))\n",
    "\n",
    "print(ligReg.score(X_test,y_test))\n",
    "\n",
    "print(Output_1.shape)\n",
    "\n",
    "print(Test_FLiPR_df.columns)\n",
    "\n",
    "print(X_test.columns)"
   ]
  },
  {
   "cell_type": "code",
   "execution_count": 16,
   "metadata": {},
   "outputs": [
    {
     "name": "stdout",
     "output_type": "stream",
     "text": [
      "\n",
      "\n",
      "\n",
      "LR Model TrainAcc: ====>0.2601467172435087 TestAccuracy          : ====>0.24665841833444868\n",
      "LR Model R2 Score: ====>0.24665841833444868 Model MeanSquare Error: ====>85.5340783594381\n",
      "\n",
      "\n",
      "\n",
      "DTR Model TrainAcc: ====>0.999999999999806 TestAccuracy          : ====>-0.5039915705546609\n",
      "DTR Model R2 Score: ====>-0.5039915705546609 Model MeanSquare Error: ====>170.7625544355894\n",
      "\n",
      "\n",
      "\n",
      "RFS Model TrainAcc: ====>0.8959333288289036 TestAccuracy          : ====>0.25694291824692095\n",
      "RFS Model R2 Score: ====>0.25694291824692095 Model MeanSquare Error: ====>84.36638067380632\n",
      "\n",
      "\n",
      "\n",
      "GBR Model TrainAcc: ====>0.37332780324546677 TestAccuracy          : ====>0.1886677269606997\n",
      "GBR Model R2 Score: ====>0.18866772696069967 Model MeanSquare Error: ====>92.11831645381469\n",
      "\n",
      "\n",
      "\n",
      "ADB Model TrainAcc: ====>0.2680844072444837 TestAccuracy          : ====>0.24238771918138236\n",
      "ADB Model R2 Score: ====>0.24238771918138236 Model MeanSquare Error: ====>86.01897169985394\n"
     ]
    }
   ],
   "source": [
    "models = {\n",
    "           'LR': LinearRegression(), \n",
    "          'DTR': DecisionTreeRegressor(), \n",
    "          'RFS': RandomForestRegressor(),\n",
    "          'GBR': GradientBoostingRegressor(),\n",
    "          'ADB': AdaBoostRegressor(),\n",
    "         }\n",
    "\n",
    "for mName, model in models.items():\n",
    "    obj = models[mName]\n",
    "    obj.fit(X_train, y_train)\n",
    "    y_predict = obj.predict(X_test)\n",
    "    \n",
    "    obj_predict = obj.predict(Test_FLiPR_df)\n",
    "    \n",
    "    train_acc = obj.score(X_train, y_train)\n",
    "    test_acc =  obj.score(X_test, y_test)\n",
    "    \n",
    "    R2Square = r2_score(y_test, y_predict)\n",
    "    MSquareE = mean_squared_error(y_test, y_predict)\n",
    "    \n",
    "    Output_1[mName] = obj_predict\n",
    "    \n",
    "    print(\"\\n\\n\")\n",
    "    print(\"{} Model TrainAcc: ====>{} TestAccuracy          : ====>{}\".format(mName, train_acc, test_acc))\n",
    "    print(\"{} Model R2 Score: ====>{} Model MeanSquare Error: ====>{}\".format(mName, R2Square, MSquareE))"
   ]
  },
  {
   "cell_type": "code",
   "execution_count": 17,
   "metadata": {},
   "outputs": [],
   "source": [
    "Output_1.to_csv('Output_1.csv')"
   ]
  },
  {
   "cell_type": "code",
   "execution_count": null,
   "metadata": {},
   "outputs": [],
   "source": [
    "from sklearn.svm import SVR\n",
    "from sklearn.model_selection import GridSearchCV, RandomizedSearchCV\n",
    "\n",
    "svcdtree=SVR()\n",
    "\n",
    "parameter_grid={'C':[1,5,10,15],\n",
    "                'kernel':['linear','rbf'],\n",
    "               'gamma':[0.001,0.01,0.015,0.1]\n",
    "               }\n",
    "\n",
    "grid=RandomizedSearchCV(svcdtree,cv=5,param_distributions=parameter_grid)\n",
    "\n",
    "grid.fit(X_train, y_train)\n",
    "  \n",
    "grid.best_score_\n",
    "\n",
    "best_model=grid.best_estimator_\n",
    "\n",
    "best_model.fit(X_train, y_train)\n",
    "\n",
    "y_predict = best_model.predict(X_test)\n",
    "\n",
    "print(\"Train Accuracy(R2 Score): ===========>\", best_model.score(X_train, y_train), \"\\n\")\n",
    "print(\"Test Accuracuy(R2 Score): ===========>\", best_model.score(X_test, y_test), \"\\n\")\n"
   ]
  },
  {
   "cell_type": "code",
   "execution_count": null,
   "metadata": {},
   "outputs": [],
   "source": []
  }
 ],
 "metadata": {
  "kernelspec": {
   "display_name": "Python 3",
   "language": "python",
   "name": "python3"
  },
  "language_info": {
   "codemirror_mode": {
    "name": "ipython",
    "version": 3
   },
   "file_extension": ".py",
   "mimetype": "text/x-python",
   "name": "python",
   "nbconvert_exporter": "python",
   "pygments_lexer": "ipython3",
   "version": "3.7.4"
  }
 },
 "nbformat": 4,
 "nbformat_minor": 2
}
